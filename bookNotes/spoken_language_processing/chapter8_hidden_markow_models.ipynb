{
 "cells": [
  {
   "cell_type": "markdown",
   "metadata": {},
   "source": [
    "# 8 Hidden Markov Models\n",
    "\n",
    "## 8.1 The Markov Chain( Discrete-time Markov chain)\n",
    "\n",
    "Let \\\\(\\mathbf{X}=X_1X_2...X_n\\\\) be a sequence of random variables from a finite dicrete alphabat \\\\(\\mathbf{O}=o_1o_2...o_M\\\\), then\n",
    "\n",
    "$$ P(X_1,X_2,...,X_n)=P(X_1)\\prod_{i=2}^{n}P(X_i|X_1^{i-1}) \\tag{8.1}$$\n",
    "\n",
    "where \\\\(X_1^{i-1}=X_1X_2...X_{i-1}\\\\).\n",
    "\n",
    "* **first-order Markov chain(first-order Markov assumption):**\n",
    "\n",
    "$$P(X_i|X_1^{i-1})=P(X_i|X_{i-1}) \\tag{8.2}$$"
   ]
  },
  {
   "cell_type": "markdown",
   "metadata": {},
   "source": [
    "## Building ..."
   ]
  },
  {
   "cell_type": "code",
   "execution_count": null,
   "metadata": {},
   "outputs": [],
   "source": []
  }
 ],
 "metadata": {
  "kernelspec": {
   "display_name": "Python 2",
   "language": "python",
   "name": "python2"
  },
  "language_info": {
   "codemirror_mode": {
    "name": "ipython",
    "version": 2
   },
   "file_extension": ".py",
   "mimetype": "text/x-python",
   "name": "python",
   "nbconvert_exporter": "python",
   "pygments_lexer": "ipython2",
   "version": "2.7.12"
  }
 },
 "nbformat": 4,
 "nbformat_minor": 2
}
